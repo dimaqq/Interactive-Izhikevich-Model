{
 "cells": [
  {
   "cell_type": "code",
   "execution_count": 3,
   "metadata": {},
   "outputs": [],
   "source": [
    "import numpy as np\n",
    "import sys\n",
    "\n",
    "# THIS IS FOR PLOTTING\n",
    "%matplotlib inline\n",
    "import matplotlib.pyplot as plt # side-stepping mpl backend\n",
    "import warnings\n",
    "warnings.filterwarnings(\"ignore\")"
   ]
  },
  {
   "cell_type": "code",
   "execution_count": 5,
   "metadata": {},
   "outputs": [
    {
     "data": {
      "image/png": "[encoded data removed]",
      "text/plain": [
       "<Figure size 864x216 with 1 Axes>"
      ]
     },
     "metadata": {
      "needs_background": "light"
     },
     "output_type": "display_data"
    }
   ],
   "source": [
    "h=0.5 #step size\n",
    "input_onset=300             # Onset of input\n",
    "input_amp=5                 # AMPLITUDE OF INPUT\n",
    "\n",
    "\n",
    "time=np.arange(0,1000.1,h)  # time period 1000ms (1s)\n",
    "\n",
    "def Input(input_onset,input_amp):\n",
    "    I=np.zeros((len(time)))     # CURRENT (INPUT)\n",
    "\n",
    "    for k in range (0,len(time)):\n",
    "        if time[k] >input_onset:\n",
    "            I[k]=input_amp # Input change\n",
    "    return I\n",
    "\n",
    "# PLOTTING THE INPUT    \n",
    "fig, ax1 = plt.subplots(figsize=(12,3))\n",
    "ax1.plot(time, Input(input_onset,input_amp), 'b-') # y label\n",
    "ax1.set_xlabel('time (s)') # x label\n",
    "# Make the y-axis label, ticks and tick labels match the line color.\n",
    "ax1.set_ylabel('Input mV', color='b')\n",
    "ax1.set_ylim(0,input_amp*2) # setting the plotting range\n",
    "plt.title('Figure 2: Input to the system')\n",
    "plt.show()"
   ]
  },
  {
   "cell_type": "code",
   "execution_count": null,
   "metadata": {},
   "outputs": [],
   "source": []
  }
 ],
 "metadata": {
  "kernelspec": {
   "display_name": "Python 3",
   "language": "python",
   "name": "python3"
  },
  "language_info": {
   "codemirror_mode": {
    "name": "ipython",
    "version": 3
   },
   "file_extension": ".py",
   "mimetype": "text/x-python",
   "name": "python",
   "nbconvert_exporter": "python",
   "pygments_lexer": "ipython3",
   "version": "3.9.0"
  }
 },
 "nbformat": 4,
 "nbformat_minor": 4
}
